{
 "cells": [
  {
   "attachments": {},
   "cell_type": "markdown",
   "metadata": {},
   "source": [
    "# Fake news detection"
   ]
  },
  {
   "attachments": {},
   "cell_type": "markdown",
   "metadata": {},
   "source": [
    "Preprocess logs for line graphs"
   ]
  },
  {
   "cell_type": "code",
   "execution_count": 6,
   "metadata": {},
   "outputs": [],
   "source": [
    "import re\n",
    "import os"
   ]
  },
  {
   "cell_type": "code",
   "execution_count": 2,
   "metadata": {},
   "outputs": [],
   "source": [
    "def extract_data(filepath, info_dict):\n",
    "    with open(filepath) as f:\n",
    "        lines = f.readlines()\n",
    "        for line in lines:\n",
    "            if re.match('Epoch.*', line):\n",
    "                info_dict['Accuracy'].append(float(line.split()[9]))\n",
    "                info_dict['Time'].append(float(line.split()[4]))\n",
    "    return info_dict\n",
    "\n",
    "def print_data(info_dict):\n",
    "    print(f\"Accuracy: {info_dict['Accuracy']}, lenght = {len(info_dict['Accuracy'])}\")\n",
    "    print(f\"Accuracy: {info_dict['Time']}, lenght = {len(info_dict['Time'])}\")"
   ]
  },
  {
   "cell_type": "code",
   "execution_count": 3,
   "metadata": {},
   "outputs": [],
   "source": [
    "classbert_fp16_25_32_1  = {'Accuracy': [], 'Time': []}\n",
    "classbert_fp16_25_32_4  = {'Accuracy': [], 'Time': []}\n",
    "deepbert_fp16_25_32_1   = {'Accuracy': [], 'Time': []}\n",
    "classbert_fp16_100_32_1 = {'Accuracy': [], 'Time': []}\n",
    "deepbert_fp16_25_32_4   = {'Accuracy': [], 'Time': []}\n",
    "classbert_fp32_50_64_4  = {'Accuracy': [], 'Time': []}\n",
    "classbert_fp16_50_64_6  = {'Accuracy': [], 'Time': []}\n",
    "classbert_fp16_100_32_4 = {'Accuracy': [], 'Time': []}\n",
    "\n",
    "classbert_fp16_25_32_1  = extract_data('report/logs/first_train/half_classbert_25_32batch_1.log',\n",
    "                                       classbert_fp16_25_32_1)\n",
    "classbert_fp16_25_32_4  = extract_data('report/logs/first_train/half_classbert_25_32batch_4.log',\n",
    "                                       classbert_fp16_25_32_4)\n",
    "deepbert_fp16_25_32_1   = extract_data('report/logs/first_train/half_deepbert_25_32batch_1.log',\n",
    "                                       deepbert_fp16_25_32_1)\n",
    "deepbert_fp16_25_32_4   = extract_data('report/logs/first_train/half_deepbert_25_32batch_4.log',\n",
    "                                       deepbert_fp16_25_32_4)\n",
    "classbert_fp32_50_64_4  = extract_data('report/logs/23rd_march_train/float_classbert_50_64batch_4.log',\n",
    "                                       classbert_fp32_50_64_4)\n",
    "classbert_fp16_50_64_6  = extract_data('report/logs/23rd_march_train/half_classbert_50_64batch_6.log',\n",
    "                                       classbert_fp16_50_64_6)\n",
    "classbert_fp16_100_32_1 = extract_data('report/logs/20th_train/half_classbert_100_32batch_1.log',\n",
    "                                       classbert_fp16_100_32_1)\n",
    "classbert_fp16_100_32_4 = extract_data('report/logs/20th_train/half_classbert_100_32batch_4.log',\n",
    "                                       classbert_fp16_100_32_4)"
   ]
  },
  {
   "cell_type": "code",
   "execution_count": null,
   "metadata": {},
   "outputs": [],
   "source": [
    "%pip install gdown"
   ]
  },
  {
   "cell_type": "code",
   "execution_count": 8,
   "metadata": {},
   "outputs": [],
   "source": [
    "if not os.path.isfile('report/models/best_models.zip'):\n",
    "    os.system('mkdir report/models/')\n",
    "    os.chdir('report/models/')\n",
    "    os.system('gdown https://drive.google.com/uc?id=1rUE1Pg3nlxaF5dLBU6OP3k2vqsZX9zcN')\n",
    "    os.system('unzip best_models.zip')\n",
    "    os.chdir('../../')"
   ]
  }
 ],
 "metadata": {
  "kernelspec": {
   "display_name": "venv",
   "language": "python",
   "name": "python3"
  },
  "language_info": {
   "codemirror_mode": {
    "name": "ipython",
    "version": 3
   },
   "file_extension": ".py",
   "mimetype": "text/x-python",
   "name": "python",
   "nbconvert_exporter": "python",
   "pygments_lexer": "ipython3",
   "version": "3.10.6"
  },
  "orig_nbformat": 4
 },
 "nbformat": 4,
 "nbformat_minor": 2
}
